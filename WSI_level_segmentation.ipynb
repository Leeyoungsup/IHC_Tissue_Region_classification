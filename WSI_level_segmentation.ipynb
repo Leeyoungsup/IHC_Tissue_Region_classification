{
 "cells": [
  {
   "cell_type": "code",
   "execution_count": 1,
   "id": "9ee9694b",
   "metadata": {},
   "outputs": [],
   "source": [
    "import random\n",
    "import openslide\n",
    "import os\n",
    "import torch\n",
    "import pandas as pd\n",
    "import numpy as np\n",
    "from tqdm import tqdm\n",
    "from urllib.request import urlopen\n",
    "from PIL import Image\n",
    "import timm\n",
    "from torch import Tensor\n",
    "from torchvision import transforms\n",
    "from torch.utils.data import DataLoader,Dataset\n",
    "from glob import glob\n",
    "from sklearn.model_selection import train_test_split\n",
    "import torch.nn as nn\n",
    "import random\n",
    "import torchmetrics\n",
    "from torch.nn.modules.batchnorm import _BatchNorm\n",
    "import matplotlib.pyplot as plt\n",
    "import torch.nn.functional as F\n",
    "device='cuda' if torch.cuda.is_available() else 'cpu'"
   ]
  },
  {
   "cell_type": "code",
   "execution_count": null,
   "id": "9d283796",
   "metadata": {},
   "outputs": [],
   "source": [
    "class_list={\n",
    "    'background':0,\n",
    "    'Tumor':1,\n",
    "    'Stroma':2,\n",
    "    'Immune cells':3,\n",
    "    'Necrosis':4,\n",
    "    'alveoli':5,\n",
    "    'Other':6\n",
    "}"
   ]
  }
 ],
 "metadata": {
  "kernelspec": {
   "display_name": "Python 3",
   "language": "python",
   "name": "python3"
  },
  "language_info": {
   "codemirror_mode": {
    "name": "ipython",
    "version": 3
   },
   "file_extension": ".py",
   "mimetype": "text/x-python",
   "name": "python",
   "nbconvert_exporter": "python",
   "pygments_lexer": "ipython3",
   "version": "3.12.3"
  }
 },
 "nbformat": 4,
 "nbformat_minor": 5
}
