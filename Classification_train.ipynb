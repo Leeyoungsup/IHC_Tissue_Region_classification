{
 "cells": [
  {
   "cell_type": "code",
   "execution_count": 5,
   "id": "9f577740",
   "metadata": {},
   "outputs": [],
   "source": [
    "import os\n",
    "import torch\n",
    "import pandas as pd\n",
    "import numpy as np\n",
    "from tqdm import tqdm\n",
    "from urllib.request import urlopen\n",
    "from PIL import Image\n",
    "import timm\n",
    "from torch import Tensor\n",
    "from torchvision import transforms\n",
    "from torch.utils.data import DataLoader,Dataset\n",
    "from glob import glob\n",
    "from sklearn.model_selection import train_test_split\n",
    "import torch.nn as nn\n",
    "import random\n",
    "import torchmetrics\n",
    "from torch.nn.modules.batchnorm import _BatchNorm\n",
    "import matplotlib.pyplot as plt\n",
    "import torch.nn.functional as F\n"
   ]
  },
  {
   "cell_type": "code",
   "execution_count": 7,
   "id": "8c377e5e",
   "metadata": {},
   "outputs": [],
   "source": [
    "class_list={\n",
    "    'background':0,\n",
    "    'Tumor':1,\n",
    "    'Stroma':2,\n",
    "    'Immune cells':3,\n",
    "    'Necrosis':4,\n",
    "    'alveoli':5,\n",
    "    'Other':6\n",
    "}\n",
    "params={'image_size':128,\n",
    "        'lr':2e-4,\n",
    "        'beta1':0.5,\n",
    "        'beta2':0.999,\n",
    "        'batch_size':32,\n",
    "        'epochs':200,\n",
    "        'n_classes':len(class_list),\n",
    "        'inch':3,\n",
    "        }"
   ]
  },
  {
   "cell_type": "code",
   "execution_count": 20,
   "id": "d75a8775",
   "metadata": {},
   "outputs": [
    {
     "name": "stderr",
     "output_type": "stream",
     "text": [
      "100%|██████████| 7/7 [00:00<00:00, 23.63it/s]\n",
      "100%|██████████| 7/7 [00:00<00:00, 95.23it/s]\n",
      "100%|██████████| 7/7 [00:00<00:00, 71.55it/s]\n",
      " 23%|██▎       | 45444/195001 [01:43<05:42, 437.02it/s]\n"
     ]
    },
    {
     "ename": "KeyboardInterrupt",
     "evalue": "",
     "output_type": "error",
     "traceback": [
      "\u001b[0;31m---------------------------------------------------------------------------\u001b[0m",
      "\u001b[0;31mKeyboardInterrupt\u001b[0m                         Traceback (most recent call last)",
      "Cell \u001b[0;32mIn[20], line 64\u001b[0m\n\u001b[1;32m     62\u001b[0m train_images\u001b[38;5;241m=\u001b[39mtorch\u001b[38;5;241m.\u001b[39mzeros((\u001b[38;5;28mlen\u001b[39m(train_image_path),params[\u001b[38;5;124m'\u001b[39m\u001b[38;5;124minch\u001b[39m\u001b[38;5;124m'\u001b[39m],params[\u001b[38;5;124m'\u001b[39m\u001b[38;5;124mimage_size\u001b[39m\u001b[38;5;124m'\u001b[39m],params[\u001b[38;5;124m'\u001b[39m\u001b[38;5;124mimage_size\u001b[39m\u001b[38;5;124m'\u001b[39m]))\n\u001b[1;32m     63\u001b[0m \u001b[38;5;28;01mfor\u001b[39;00m i \u001b[38;5;129;01min\u001b[39;00m tqdm(\u001b[38;5;28mrange\u001b[39m(\u001b[38;5;28mlen\u001b[39m(train_image_path))):\n\u001b[0;32m---> 64\u001b[0m     train_images[i]\u001b[38;5;241m=\u001b[39mtrans(\u001b[43mImage\u001b[49m\u001b[38;5;241;43m.\u001b[39;49m\u001b[43mopen\u001b[49m\u001b[43m(\u001b[49m\u001b[43mtrain_image_path\u001b[49m\u001b[43m[\u001b[49m\u001b[43mi\u001b[49m\u001b[43m]\u001b[49m\u001b[43m)\u001b[49m\u001b[38;5;241m.\u001b[39mconvert(\u001b[38;5;124m'\u001b[39m\u001b[38;5;124mRGB\u001b[39m\u001b[38;5;124m'\u001b[39m)\u001b[38;5;241m.\u001b[39mresize((params[\u001b[38;5;124m'\u001b[39m\u001b[38;5;124mimage_size\u001b[39m\u001b[38;5;124m'\u001b[39m],params[\u001b[38;5;124m'\u001b[39m\u001b[38;5;124mimage_size\u001b[39m\u001b[38;5;124m'\u001b[39m])))\n\u001b[1;32m     67\u001b[0m \u001b[38;5;66;03m# X_train, X_test, y_train, y_test = train_test_split(train_images, image_label, test_size=0.2, random_state=42)\u001b[39;00m\n\u001b[1;32m     68\u001b[0m \u001b[38;5;66;03m# train_dataset=CustomDataset(params,X_train,F.one_hot(torch.tensor(y_train)).to(torch.int64))\u001b[39;00m\n\u001b[1;32m     69\u001b[0m \u001b[38;5;66;03m# val_dataset=CustomDataset(params,X_test,F.one_hot(torch.tensor(y_test)).to(torch.int64))\u001b[39;00m\n\u001b[1;32m     70\u001b[0m \u001b[38;5;66;03m# dataloader=DataLoader(train_dataset,batch_size=params['batch_size'],shuffle=True)\u001b[39;00m\n\u001b[1;32m     71\u001b[0m \u001b[38;5;66;03m# val_dataloader=DataLoader(val_dataset,batch_size=params['batch_size'],shuffle=True)\u001b[39;00m\n",
      "File \u001b[0;32m/usr/local/lib/python3.12/dist-packages/PIL/Image.py:3465\u001b[0m, in \u001b[0;36mopen\u001b[0;34m(fp, mode, formats)\u001b[0m\n\u001b[1;32m   3462\u001b[0m     filename \u001b[38;5;241m=\u001b[39m os\u001b[38;5;241m.\u001b[39mfspath(fp)\n\u001b[1;32m   3464\u001b[0m \u001b[38;5;28;01mif\u001b[39;00m filename:\n\u001b[0;32m-> 3465\u001b[0m     fp \u001b[38;5;241m=\u001b[39m \u001b[43mbuiltins\u001b[49m\u001b[38;5;241;43m.\u001b[39;49m\u001b[43mopen\u001b[49m\u001b[43m(\u001b[49m\u001b[43mfilename\u001b[49m\u001b[43m,\u001b[49m\u001b[43m \u001b[49m\u001b[38;5;124;43m\"\u001b[39;49m\u001b[38;5;124;43mrb\u001b[39;49m\u001b[38;5;124;43m\"\u001b[39;49m\u001b[43m)\u001b[49m\n\u001b[1;32m   3466\u001b[0m     exclusive_fp \u001b[38;5;241m=\u001b[39m \u001b[38;5;28;01mTrue\u001b[39;00m\n\u001b[1;32m   3467\u001b[0m \u001b[38;5;28;01melse\u001b[39;00m:\n",
      "\u001b[0;31mKeyboardInterrupt\u001b[0m: "
     ]
    }
   ],
   "source": [
    "trans = transforms.Compose([\n",
    "            transforms.ToTensor(),\n",
    "            transforms.Normalize((0.5, 0.5, 0.5), (0.5, 0.5, 0.5)),\n",
    "        ])\n",
    "\n",
    "def transback(data:Tensor) -> Tensor:\n",
    "    return data / 2 + 0.5\n",
    "\n",
    "class CustomDataset(Dataset):\n",
    "    \"\"\"COCO Custom Dataset compatible with torch.utils.data.DataLoader.\"\"\"\n",
    "    def __init__(self,parmas, images,label):\n",
    "        \n",
    "        self.images = images\n",
    "        self.args=parmas\n",
    "        self.label=label\n",
    "        \n",
    "    def trans(self,image):\n",
    "        if random.random() > 0.5:\n",
    "            transform = transforms.RandomHorizontalFlip(1)\n",
    "            image = transform(image)\n",
    "            \n",
    "        if random.random() > 0.5:\n",
    "            transform = transforms.RandomVerticalFlip(1)\n",
    "            image = transform(image)\n",
    "            \n",
    "        return image\n",
    "    \n",
    "    def __getitem__(self, index):\n",
    "        image=self.images[index]\n",
    "        label=self.label[index]\n",
    "        image = self.trans(image)\n",
    "        return image,label\n",
    "    \n",
    "    def __len__(self):\n",
    "        return len(self.images)\n",
    "\n",
    "\n",
    "train_image_label=[]\n",
    "train_image_path=[]\n",
    "val_image_label=[]\n",
    "val_image_path=[]\n",
    "for dataset_name in range(2):\n",
    "    for i in tqdm(range(len(class_list))):\n",
    "        if dataset_name==0:\n",
    "            image_list=glob(f'../../data/MIHIC/train/{list(class_list.keys())[i]}/*.png')\n",
    "            train_image_path.extend(image_list)\n",
    "            for k in range(len(image_list)):\n",
    "                train_image_label.append(i)\n",
    "        else:\n",
    "            image_list=glob(f'../../data/MIHIC/val/{list(class_list.keys())[i]}/*.png')\n",
    "            val_image_path.extend(image_list)\n",
    "            for k in range(len(image_list)):\n",
    "                val_image_label.append(i)\n",
    "\n",
    "train_images=torch.zeros((len(train_image_path),params['inch'],params['image_size'],params['image_size']))\n",
    "val_images=torch.zeros((len(val_image_path),params['inch'],params['image_size'],params['image_size']))\n",
    "for i in tqdm(range(len(train_image_path))):\n",
    "    train_images[i]=trans(Image.open(train_image_path[i]).convert('RGB').resize((params['image_size'],params['image_size'])))\n",
    "for i in tqdm(range(len(val_image_path))):\n",
    "    val_images[i]=trans(Image.open(val_image_path[i]).convert('RGB').resize((params['image_size'],params['image_size'])))\n",
    "    \n",
    "# X_train, X_test, y_train, y_test = train_test_split(train_images, image_label, test_size=0.2, random_state=42)\n",
    "# train_dataset=CustomDataset(params,X_train,F.one_hot(torch.tensor(y_train)).to(torch.int64))\n",
    "# val_dataset=CustomDataset(params,X_test,F.one_hot(torch.tensor(y_test)).to(torch.int64))\n",
    "# dataloader=DataLoader(train_dataset,batch_size=params['batch_size'],shuffle=True)\n",
    "# val_dataloader=DataLoader(val_dataset,batch_size=params['batch_size'],shuffle=True)"
   ]
  },
  {
   "cell_type": "code",
   "execution_count": 19,
   "id": "ded9e7cd",
   "metadata": {},
   "outputs": [
    {
     "data": {
      "text/plain": [
       "195001"
      ]
     },
     "execution_count": 19,
     "metadata": {},
     "output_type": "execute_result"
    }
   ],
   "source": [
    "len(train_image_label)"
   ]
  },
  {
   "cell_type": "code",
   "execution_count": 9,
   "id": "e3ede9b7",
   "metadata": {},
   "outputs": [
    {
     "data": {
      "text/plain": [
       "dict_keys(['background', 'Tumor', 'Stroma', 'Immune cells', 'Necrosis', 'alveoli', 'Other'])"
      ]
     },
     "execution_count": 9,
     "metadata": {},
     "output_type": "execute_result"
    }
   ],
   "source": [
    "class_list.keys()"
   ]
  }
 ],
 "metadata": {
  "kernelspec": {
   "display_name": "Python 3",
   "language": "python",
   "name": "python3"
  },
  "language_info": {
   "codemirror_mode": {
    "name": "ipython",
    "version": 3
   },
   "file_extension": ".py",
   "mimetype": "text/x-python",
   "name": "python",
   "nbconvert_exporter": "python",
   "pygments_lexer": "ipython3",
   "version": "3.12.3"
  }
 },
 "nbformat": 4,
 "nbformat_minor": 5
}
