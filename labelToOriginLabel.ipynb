{
 "cells": [
  {
   "cell_type": "code",
   "execution_count": 3,
   "id": "4e47f8bf",
   "metadata": {},
   "outputs": [],
   "source": [
    "from PIL import Image,ImageOps\n",
    "import numpy as np\n",
    "import cv2\n",
    "import openslide\n",
    "import pyvips\n",
    "from glob import glob\n",
    "import os\n",
    "from tqdm import tqdm"
   ]
  },
  {
   "cell_type": "code",
   "execution_count": null,
   "id": "e81085c8",
   "metadata": {},
   "outputs": [
    {
     "name": "stderr",
     "output_type": "stream",
     "text": [
      "  0%|          | 0/5 [00:00<?, ?it/s]"
     ]
    }
   ],
   "source": [
    "slide_list=glob('../../data/WSI_test/BR/*KI*.tiff')\n",
    "for i in tqdm(range(len(slide_list))):\n",
    "\n",
    "    slide = pyvips.Image.new_from_file(slide_list[i], access='sequential')\n",
    "    src_img=Image.open(f'../../results/BR/WSI_classification/{os.path.basename(slide_list[i]).split('.')[0]}_segmentation.png')\n",
    "\n",
    "\n",
    "    # OpenCV - 빠름\n",
    "    src_array = np.array(src_img)\n",
    "    resized_array = cv2.resize(src_array, (src_img.size[0]*16, src_img.size[1]*16), \n",
    "                            interpolation=cv2.INTER_NEAREST)\n",
    "\n",
    "    # 패딩 추가\n",
    "    dst_array = np.full((slide.height, slide.width, 3), 255, dtype=np.uint8)\n",
    "    dst_array[0:resized_array.shape[0], 0:resized_array.shape[1]] = resized_array\n",
    "\n",
    "    dst_array_bgr = cv2.cvtColor(dst_array, cv2.COLOR_RGB2BGR)\n",
    "    cv2.imwrite(f'../../results/BR/WSI_classification/{os.path.basename(slide_list[i]).split('.')[0]}_segmentation_resized.png', dst_array_bgr)"
   ]
  },
  {
   "cell_type": "code",
   "execution_count": null,
   "id": "dad8f12c",
   "metadata": {},
   "outputs": [
    {
     "data": {
      "text/plain": [
       "'CODIPAI-BRCA-SS-02189-I-KI-01'"
      ]
     },
     "execution_count": 10,
     "metadata": {},
     "output_type": "execute_result"
    }
   ],
   "source": [
    "slide_list=glob('../../data/WSI_test/BR/*KI*.tiff')\n"
   ]
  }
 ],
 "metadata": {
  "kernelspec": {
   "display_name": "Python 3",
   "language": "python",
   "name": "python3"
  },
  "language_info": {
   "codemirror_mode": {
    "name": "ipython",
    "version": 3
   },
   "file_extension": ".py",
   "mimetype": "text/x-python",
   "name": "python",
   "nbconvert_exporter": "python",
   "pygments_lexer": "ipython3",
   "version": "3.12.3"
  }
 },
 "nbformat": 4,
 "nbformat_minor": 5
}
