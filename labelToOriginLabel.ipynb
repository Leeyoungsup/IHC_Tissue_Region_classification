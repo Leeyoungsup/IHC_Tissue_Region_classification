{
 "cells": [
  {
   "cell_type": "code",
   "execution_count": 7,
   "id": "4e47f8bf",
   "metadata": {},
   "outputs": [],
   "source": [
    "from PIL import Image,ImageOps\n",
    "import numpy as np\n",
    "import cv2\n",
    "import openslide\n",
    "import pyvips\n",
    "from glob import glob\n",
    "import os\n",
    "from tqdm import tqdm"
   ]
  },
  {
   "cell_type": "code",
   "execution_count": 26,
   "id": "e81085c8",
   "metadata": {},
   "outputs": [
    {
     "name": "stderr",
     "output_type": "stream",
     "text": [
      " 20%|██        | 1/5 [00:01<00:04,  1.24s/it]\n",
      "\n"
     ]
    },
    {
     "ename": "FileNotFoundError",
     "evalue": "[Errno 2] No such file or directory: '../../results/BR/WSI_classification/CODIPAI-BRCA-SS-02192-I-KI-01_segmentation.png'",
     "output_type": "error",
     "traceback": [
      "\u001b[0;31m---------------------------------------------------------------------------\u001b[0m",
      "\u001b[0;31mFileNotFoundError\u001b[0m                         Traceback (most recent call last)",
      "Cell \u001b[0;32mIn[26], line 5\u001b[0m\n\u001b[1;32m      2\u001b[0m \u001b[38;5;28;01mfor\u001b[39;00m i \u001b[38;5;129;01min\u001b[39;00m tqdm(\u001b[38;5;28mrange\u001b[39m(\u001b[38;5;28mlen\u001b[39m(slide_list))):\n\u001b[1;32m      4\u001b[0m     slide \u001b[38;5;241m=\u001b[39m pyvips\u001b[38;5;241m.\u001b[39mImage\u001b[38;5;241m.\u001b[39mnew_from_file(slide_list[i], access\u001b[38;5;241m=\u001b[39m\u001b[38;5;124m'\u001b[39m\u001b[38;5;124msequential\u001b[39m\u001b[38;5;124m'\u001b[39m)\n\u001b[0;32m----> 5\u001b[0m     src_img\u001b[38;5;241m=\u001b[39m\u001b[43mImage\u001b[49m\u001b[38;5;241;43m.\u001b[39;49m\u001b[43mopen\u001b[49m\u001b[43m(\u001b[49m\u001b[38;5;124;43mf\u001b[39;49m\u001b[38;5;124;43m'\u001b[39;49m\u001b[38;5;124;43m../../results/BR/WSI_classification/\u001b[39;49m\u001b[38;5;132;43;01m{\u001b[39;49;00m\u001b[43mos\u001b[49m\u001b[38;5;241;43m.\u001b[39;49m\u001b[43mpath\u001b[49m\u001b[38;5;241;43m.\u001b[39;49m\u001b[43mbasename\u001b[49m\u001b[43m(\u001b[49m\u001b[43mslide_list\u001b[49m\u001b[43m[\u001b[49m\u001b[43mi\u001b[49m\u001b[43m]\u001b[49m\u001b[43m)\u001b[49m\u001b[38;5;241;43m.\u001b[39;49m\u001b[43msplit\u001b[49m\u001b[43m(\u001b[49m\u001b[38;5;124;43m'\u001b[39;49m\u001b[38;5;124;43m.\u001b[39;49m\u001b[38;5;124;43m'\u001b[39;49m\u001b[43m)\u001b[49m\u001b[43m[\u001b[49m\u001b[38;5;241;43m0\u001b[39;49m\u001b[43m]\u001b[49m\u001b[38;5;132;43;01m}\u001b[39;49;00m\u001b[38;5;124;43m_segmentation.png\u001b[39;49m\u001b[38;5;124;43m'\u001b[39;49m\u001b[43m)\u001b[49m\n\u001b[1;32m      6\u001b[0m     dst_img\u001b[38;5;241m=\u001b[39mImageOps\u001b[38;5;241m.\u001b[39mexpand(src_img, border\u001b[38;5;241m=\u001b[39m(\u001b[38;5;241m0\u001b[39m, \u001b[38;5;241m0\u001b[39m, (slide\u001b[38;5;241m.\u001b[39mwidth\u001b[38;5;241m-\u001b[39msrc_img\u001b[38;5;241m.\u001b[39msize[\u001b[38;5;241m0\u001b[39m]\u001b[38;5;241m*\u001b[39m\u001b[38;5;241m32\u001b[39m)\u001b[38;5;241m/\u001b[39m\u001b[38;5;241m/\u001b[39m\u001b[38;5;241m32\u001b[39m, (slide\u001b[38;5;241m.\u001b[39mheight\u001b[38;5;241m-\u001b[39msrc_img\u001b[38;5;241m.\u001b[39msize[\u001b[38;5;241m1\u001b[39m]\u001b[38;5;241m*\u001b[39m\u001b[38;5;241m32\u001b[39m)\u001b[38;5;241m/\u001b[39m\u001b[38;5;241m/\u001b[39m\u001b[38;5;241m32\u001b[39m), fill\u001b[38;5;241m=\u001b[39m(\u001b[38;5;241m255\u001b[39m, \u001b[38;5;241m255\u001b[39m, \u001b[38;5;241m255\u001b[39m))\n\u001b[1;32m      8\u001b[0m     \u001b[38;5;66;03m# 투명도 설정을 위해 RGBA로 변환\u001b[39;00m\n",
      "File \u001b[0;32m/usr/local/lib/python3.12/dist-packages/PIL/Image.py:3465\u001b[0m, in \u001b[0;36mopen\u001b[0;34m(fp, mode, formats)\u001b[0m\n\u001b[1;32m   3462\u001b[0m     filename \u001b[38;5;241m=\u001b[39m os\u001b[38;5;241m.\u001b[39mfspath(fp)\n\u001b[1;32m   3464\u001b[0m \u001b[38;5;28;01mif\u001b[39;00m filename:\n\u001b[0;32m-> 3465\u001b[0m     fp \u001b[38;5;241m=\u001b[39m \u001b[43mbuiltins\u001b[49m\u001b[38;5;241;43m.\u001b[39;49m\u001b[43mopen\u001b[49m\u001b[43m(\u001b[49m\u001b[43mfilename\u001b[49m\u001b[43m,\u001b[49m\u001b[43m \u001b[49m\u001b[38;5;124;43m\"\u001b[39;49m\u001b[38;5;124;43mrb\u001b[39;49m\u001b[38;5;124;43m\"\u001b[39;49m\u001b[43m)\u001b[49m\n\u001b[1;32m   3466\u001b[0m     exclusive_fp \u001b[38;5;241m=\u001b[39m \u001b[38;5;28;01mTrue\u001b[39;00m\n\u001b[1;32m   3467\u001b[0m \u001b[38;5;28;01melse\u001b[39;00m:\n",
      "\u001b[0;31mFileNotFoundError\u001b[0m: [Errno 2] No such file or directory: '../../results/BR/WSI_classification/CODIPAI-BRCA-SS-02192-I-KI-01_segmentation.png'"
     ]
    }
   ],
   "source": [
    "slide_list=glob('../../data/WSI_test/BR/*KI*.tiff')\n",
    "for i in tqdm(range(len(slide_list))):\n",
    "\n",
    "    slide = pyvips.Image.new_from_file(slide_list[i], access='sequential')\n",
    "    src_img=Image.open(f'../../results/BR/WSI_classification/{os.path.basename(slide_list[i]).split('.')[0]}_segmentation.png')\n",
    "    dst_img=ImageOps.expand(src_img, border=(0, 0, (slide.width-src_img.size[0]*32)//32, (slide.height-src_img.size[1]*32)//32), fill=(255, 255, 255))\n",
    "    \n",
    "    # 투명도 설정을 위해 RGBA로 변환\n",
    "    dst_img = dst_img.convert('RGBA')\n",
    "    data = np.array(dst_img)\n",
    "    \n",
    "    # 흰색 픽셀 찾기 (RGB 값이 모두 255인 경우)\n",
    "    white_mask = (data[:,:,0] == 255) & (data[:,:,1] == 255) & (data[:,:,2] == 255)\n",
    "    \n",
    "    # 흰색은 완전 투명 (알파값 0), 나머지는 50% 투명 (알파값 128)\n",
    "    data[white_mask, 3] = 0     # 완전 투명\n",
    "    data[~white_mask, 3] = 128  # 50% 투명\n",
    "    \n",
    "    # numpy 배열을 다시 PIL 이미지로 변환\n",
    "    dst_img = Image.fromarray(data, 'RGBA')\n",
    "    dst_img.save(f'../../results/BR/WSI_classification/{os.path.basename(slide_list[i]).split(\".\")[0]}_seg_padding.png')\n",
    "    # OpenCV - 빠름\n",
    "    "
   ]
  },
  {
   "cell_type": "code",
   "execution_count": 24,
   "id": "dad8f12c",
   "metadata": {},
   "outputs": [
    {
     "data": {
      "text/plain": [
       "64256"
      ]
     },
     "execution_count": 24,
     "metadata": {},
     "output_type": "execute_result"
    }
   ],
   "source": []
  },
  {
   "cell_type": "code",
   "execution_count": 20,
   "id": "793f0f6e",
   "metadata": {},
   "outputs": [
    {
     "data": {
      "text/plain": [
       "103680"
      ]
     },
     "execution_count": 20,
     "metadata": {},
     "output_type": "execute_result"
    }
   ],
   "source": [
    "slide.height"
   ]
  }
 ],
 "metadata": {
  "kernelspec": {
   "display_name": "Python 3",
   "language": "python",
   "name": "python3"
  },
  "language_info": {
   "codemirror_mode": {
    "name": "ipython",
    "version": 3
   },
   "file_extension": ".py",
   "mimetype": "text/x-python",
   "name": "python",
   "nbconvert_exporter": "python",
   "pygments_lexer": "ipython3",
   "version": "3.12.3"
  }
 },
 "nbformat": 4,
 "nbformat_minor": 5
}
