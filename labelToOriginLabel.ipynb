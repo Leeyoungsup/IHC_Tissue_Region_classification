{
 "cells": [
  {
   "cell_type": "code",
   "execution_count": 2,
   "id": "4e47f8bf",
   "metadata": {},
   "outputs": [],
   "source": [
    "from PIL import Image,ImageOps\n",
    "import numpy as np\n",
    "import cv2\n",
    "import openslide\n",
    "import pyvips\n",
    "from glob import glob\n",
    "import os\n",
    "from tqdm import tqdm"
   ]
  },
  {
   "cell_type": "code",
   "execution_count": 9,
   "id": "e81085c8",
   "metadata": {},
   "outputs": [
    {
     "name": "stderr",
     "output_type": "stream",
     "text": [
      "100%|██████████| 5/5 [00:14<00:00,  2.82s/it]\n"
     ]
    }
   ],
   "source": [
    "slide_list=glob('../../data/WSI_test/BR/*KI*.tiff')\n",
    "for i in tqdm(range(len(slide_list))):\n",
    "\n",
    "    slide = pyvips.Image.new_from_file(slide_list[i], access='sequential')\n",
    "    src_img=Image.open(f'../../results/BR/WSI_classification/{os.path.basename(slide_list[i]).split('.')[0]}_segmentation.png')\n",
    "    dst_img=ImageOps.expand(src_img, border=(0, 0, (slide.width-src_img.size[0]*16)//16, (slide.height-src_img.size[1]*16)//16), fill=(255, 255, 255))\n",
    "    dst_img.save(f'../../results/BR/WSI_classification/{os.path.basename(slide_list[i]).split(\".\")[0]}_seg_padding.png')\n",
    "    # OpenCV - 빠름\n",
    "    "
   ]
  },
  {
   "cell_type": "code",
   "execution_count": null,
   "id": "dad8f12c",
   "metadata": {},
   "outputs": [
    {
     "data": {
      "text/plain": [
       "96.0"
      ]
     },
     "execution_count": 8,
     "metadata": {},
     "output_type": "execute_result"
    }
   ],
   "source": [
    "src_img.size\n",
    "(slide.width-src_img.size[0]*16)//16"
   ]
  }
 ],
 "metadata": {
  "kernelspec": {
   "display_name": "Python 3",
   "language": "python",
   "name": "python3"
  },
  "language_info": {
   "codemirror_mode": {
    "name": "ipython",
    "version": 3
   },
   "file_extension": ".py",
   "mimetype": "text/x-python",
   "name": "python",
   "nbconvert_exporter": "python",
   "pygments_lexer": "ipython3",
   "version": "3.12.3"
  }
 },
 "nbformat": 4,
 "nbformat_minor": 5
}
